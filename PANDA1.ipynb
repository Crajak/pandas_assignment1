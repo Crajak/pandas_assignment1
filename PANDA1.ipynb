{
 "cells": [
  {
   "cell_type": "markdown",
   "id": "a6e94d83-04ac-42be-b24e-6159d89cc5c5",
   "metadata": {},
   "source": [
    "Q1. Create a Pandas Series that contains the following data: 4, 8, 15, 16, 23, and 42. Then, print the series."
   ]
  },
  {
   "cell_type": "code",
   "execution_count": 2,
   "id": "bd0ad225-d784-4a9d-90e9-6c4a0e245011",
   "metadata": {},
   "outputs": [
    {
     "name": "stdout",
     "output_type": "stream",
     "text": [
      "0     4\n",
      "1     8\n",
      "2    15\n",
      "3    16\n",
      "4    23\n",
      "5    42\n",
      "dtype: int64\n"
     ]
    }
   ],
   "source": [
    "#Ans Q1.\n",
    "import pandas as pd\n",
    "\n",
    "data = [4, 8, 15, 16, 23, 42]\n",
    "series = pd.Series(data)\n",
    "\n",
    "print(series)\n"
   ]
  },
  {
   "cell_type": "markdown",
   "id": "646710bb-d4eb-4f60-8518-d332e2671eba",
   "metadata": {},
   "source": [
    "Q2. Create a variable of list type containing 10 elements in it, and apply pandas.Series function on the\n",
    "variable print it."
   ]
  },
  {
   "cell_type": "code",
   "execution_count": 10,
   "id": "fd3efd26-8595-4525-94a9-4d61056af47d",
   "metadata": {},
   "outputs": [
    {
     "name": "stdout",
     "output_type": "stream",
     "text": [
      "0     4\n",
      "1     8\n",
      "2    15\n",
      "3    16\n",
      "4    23\n",
      "5    42\n",
      "6     5\n",
      "7     9\n",
      "8    10\n",
      "9    17\n",
      "dtype: int64\n"
     ]
    }
   ],
   "source": [
    "import pandas as pd\n",
    "my_list = [4, 8, 15, 16, 23, 42, 5, 9, 10, 17]\n",
    "\n",
    "my_series = pd.Series(my_list)\n",
    "\n",
    "print(my_series)"
   ]
  },
  {
   "cell_type": "markdown",
   "id": "8f89ace3-ef8c-4193-84a2-6a422f350256",
   "metadata": {},
   "source": [
    "Q3. Create a Pandas DataFrame that contains the following data:\n",
    "Name                      Age                   Gender\n",
    "Alice                     25                    Female\n",
    "Bob                       30                    Male\n",
    "Claire                    27                    Female\n",
    "\n",
    "Then, print the DataFrame."
   ]
  },
  {
   "cell_type": "code",
   "execution_count": 4,
   "id": "c691768c-3ffa-400c-8638-f4e961a23165",
   "metadata": {},
   "outputs": [
    {
     "name": "stdout",
     "output_type": "stream",
     "text": [
      "     Name  Age  Gender\n",
      "0   Alice   25  Female\n",
      "1     Bob   30    Male\n",
      "2  Claire   27  Female\n"
     ]
    }
   ],
   "source": [
    "#Ans Q3.\n",
    "import pandas as pd\n",
    "\n",
    "data = {\n",
    "    'Name': ['Alice', 'Bob', 'Claire'],\n",
    "    'Age': [25, 30, 27],\n",
    "    'Gender': ['Female', 'Male', 'Female']\n",
    "}\n",
    "\n",
    "df = pd.DataFrame(data)\n",
    "\n",
    "print(df)\n"
   ]
  },
  {
   "cell_type": "markdown",
   "id": "df2c17fa-ba55-4263-be39-d40118488818",
   "metadata": {},
   "source": [
    "Q4. What is ‘DataFrame’ in pandas and how is it different from pandas.series? Explain with an example."
   ]
  },
  {
   "cell_type": "code",
   "execution_count": 5,
   "id": "dbd06bfa-bc00-40a4-9256-47a548961413",
   "metadata": {},
   "outputs": [
    {
     "name": "stdout",
     "output_type": "stream",
     "text": [
      "Series:\n",
      "0     4\n",
      "1     8\n",
      "2    15\n",
      "3    16\n",
      "4    23\n",
      "5    42\n",
      "Name: Numbers, dtype: int64\n",
      "\n",
      "DataFrame:\n",
      "     Name  Age  Gender\n",
      "0   Alice   25  Female\n",
      "1     Bob   30    Male\n",
      "2  Claire   27  Female\n"
     ]
    }
   ],
   "source": [
    "#Ans Q4.\n",
    "\"\"\"In Pandas, a DataFrame is a two-dimensional labeled data structure with columns that can hold data of different types. \n",
    "It is similar to a table in a relational database or a spreadsheet. A DataFrame provides a convenient way to store, manipulate, \n",
    "and analyze structured data. Each column in a DataFrame can be thought of as a Series.\"\"\"\n",
    "\n",
    "\"\"\"A Series, on the other hand, is a one-dimensional labeled array that can hold data of a single data type.\n",
    "It can be thought of as a single column of a DataFrame. Essentially, a Series is a basic building block of a DataFrame.\"\"\"\n",
    "\n",
    "import pandas as pd\n",
    "\n",
    "# Creating a Series\n",
    "data_series = pd.Series([4, 8, 15, 16, 23, 42], name='Numbers')\n",
    "\n",
    "# Creating a DataFrame\n",
    "data = {\n",
    "    'Name': ['Alice', 'Bob', 'Claire'],\n",
    "    'Age': [25, 30, 27],\n",
    "    'Gender': ['Female', 'Male', 'Female']\n",
    "}\n",
    "\n",
    "data_df = pd.DataFrame(data)\n",
    "\n",
    "# Printing the Series and DataFrame\n",
    "print(\"Series:\")\n",
    "print(data_series)\n",
    "\n",
    "print(\"\\nDataFrame:\")\n",
    "print(data_df)"
   ]
  },
  {
   "cell_type": "markdown",
   "id": "7014ca49-da94-4575-8a6b-4462c2345ead",
   "metadata": {},
   "source": [
    "Q5. What are some common functions you can use to manipulate data in a Pandas DataFrame? Can\n",
    "you give an example of when you might use one of these functions?"
   ]
  },
  {
   "cell_type": "code",
   "execution_count": 7,
   "id": "0edbc110-1944-4674-a6c6-6fee64915c94",
   "metadata": {},
   "outputs": [
    {
     "name": "stdout",
     "output_type": "stream",
     "text": [
      "   PassengerId  Survived  Pclass  \\\n",
      "0            1         0       3   \n",
      "1            2         1       1   \n",
      "2            3         1       3   \n",
      "3            4         1       1   \n",
      "4            5         0       3   \n",
      "\n",
      "                                                Name     Sex   Age  SibSp  \\\n",
      "0                            Braund, Mr. Owen Harris    male  22.0      1   \n",
      "1  Cumings, Mrs. John Bradley (Florence Briggs Th...  female  38.0      1   \n",
      "2                             Heikkinen, Miss. Laina  female  26.0      0   \n",
      "3       Futrelle, Mrs. Jacques Heath (Lily May Peel)  female  35.0      1   \n",
      "4                           Allen, Mr. William Henry    male  35.0      0   \n",
      "\n",
      "   Parch            Ticket     Fare Cabin Embarked  \n",
      "0      0         A/5 21171   7.2500   NaN        S  \n",
      "1      0          PC 17599  71.2833   C85        C  \n",
      "2      0  STON/O2. 3101282   7.9250   NaN        S  \n",
      "3      0            113803  53.1000  C123        S  \n",
      "4      0            373450   8.0500   NaN        S  \n",
      "       PassengerId    Survived      Pclass         Age       SibSp  \\\n",
      "count   891.000000  891.000000  891.000000  714.000000  891.000000   \n",
      "mean    446.000000    0.383838    2.308642   29.699118    0.523008   \n",
      "std     257.353842    0.486592    0.836071   14.526497    1.102743   \n",
      "min       1.000000    0.000000    1.000000    0.420000    0.000000   \n",
      "25%     223.500000    0.000000    2.000000   20.125000    0.000000   \n",
      "50%     446.000000    0.000000    3.000000   28.000000    0.000000   \n",
      "75%     668.500000    1.000000    3.000000   38.000000    1.000000   \n",
      "max     891.000000    1.000000    3.000000   80.000000    8.000000   \n",
      "\n",
      "            Parch        Fare  \n",
      "count  891.000000  891.000000  \n",
      "mean     0.381594   32.204208  \n",
      "std      0.806057   49.693429  \n",
      "min      0.000000    0.000000  \n",
      "25%      0.000000    7.910400  \n",
      "50%      0.000000   14.454200  \n",
      "75%      0.000000   31.000000  \n",
      "max      6.000000  512.329200  \n",
      "    PassengerId  Survived  Pclass  \\\n",
      "2             3         1       3   \n",
      "8             9         1       3   \n",
      "9            10         1       2   \n",
      "10           11         1       3   \n",
      "14           15         0       3   \n",
      "\n",
      "                                                 Name     Sex   Age  SibSp  \\\n",
      "2                              Heikkinen, Miss. Laina  female  26.0      0   \n",
      "8   Johnson, Mrs. Oscar W (Elisabeth Vilhelmina Berg)  female  27.0      0   \n",
      "9                 Nasser, Mrs. Nicholas (Adele Achem)  female  14.0      1   \n",
      "10                    Sandstrom, Miss. Marguerite Rut  female   4.0      1   \n",
      "14               Vestrom, Miss. Hulda Amanda Adolfina  female  14.0      0   \n",
      "\n",
      "    Parch            Ticket     Fare Cabin Embarked  \n",
      "2       0  STON/O2. 3101282   7.9250   NaN        S  \n",
      "8       2            347742  11.1333   NaN        S  \n",
      "9       0            237736  30.0708   NaN        C  \n",
      "10      1           PP 9549  16.7000    G6        S  \n",
      "14      0            350406   7.8542   NaN        S  \n",
      "\n",
      "DataFrame after dropping 'Cabin' column:\n",
      "   PassengerId  Survived  Pclass  \\\n",
      "0            1         0       3   \n",
      "1            2         1       1   \n",
      "2            3         1       3   \n",
      "3            4         1       1   \n",
      "4            5         0       3   \n",
      "\n",
      "                                                Name     Sex   Age  SibSp  \\\n",
      "0                            Braund, Mr. Owen Harris    male  22.0      1   \n",
      "1  Cumings, Mrs. John Bradley (Florence Briggs Th...  female  38.0      1   \n",
      "2                             Heikkinen, Miss. Laina  female  26.0      0   \n",
      "3       Futrelle, Mrs. Jacques Heath (Lily May Peel)  female  35.0      1   \n",
      "4                           Allen, Mr. William Henry    male  35.0      0   \n",
      "\n",
      "   Parch            Ticket     Fare Embarked  \n",
      "0      0         A/5 21171   7.2500        S  \n",
      "1      0          PC 17599  71.2833        C  \n",
      "2      0  STON/O2. 3101282   7.9250        S  \n",
      "3      0            113803  53.1000        S  \n",
      "4      0            373450   8.0500        S  \n"
     ]
    }
   ],
   "source": [
    "#Ans Q5\n",
    "\n",
    "\"\"\"df.head()  \n",
    "df.tail()  \n",
    "df.describe()\n",
    "filtered_df = df[df['Age'] > 25]\n",
    "df_dropped = df.drop(columns=['Column1', 'Column2'])\n",
    "df_filled = df.fillna(0)\"\"\"\n",
    "import pandas as pd\n",
    "url = 'https://raw.githubusercontent.com/datasciencedojo/datasets/master/titanic.csv'\n",
    "df = pd.read_csv(url)\n",
    "print(df.head())\n",
    "print(df.describe())\n",
    "filtered_df = df[(df['Sex'] == 'female') & (df['Age'] < 30)]\n",
    "print(filtered_df.head())\n",
    "df_dropped = df.drop(columns=['Cabin'])\n",
    "print(\"\\nDataFrame after dropping 'Cabin' column:\")\n",
    "print(df_dropped.head())\n"
   ]
  },
  {
   "cell_type": "markdown",
   "id": "6582e930-8b1f-46ce-ac62-a8694fbcef13",
   "metadata": {},
   "source": [
    "Q6. Which of the following is mutable in nature Series, DataFrame, Panel?"
   ]
  },
  {
   "cell_type": "code",
   "execution_count": 8,
   "id": "1d99603a-3766-4360-a054-e20f4acad29d",
   "metadata": {},
   "outputs": [
    {
     "data": {
      "text/plain": [
       "'Among the options given (Series, DataFrame, Panel), only the DataFrame is mutable in nature.\\n\\nIn Python, \"mutable\" means that an object can be modified after it\\'s created.\\n\\nA Series in Pandas is an immutable object, meaning you can\\'t modify its individual elements after creation.\\n\\nA Panel in Pandas was a 3D data structure in older versions of Pandas, but it\\'s deprecated now.\\nEven though Panels were mutable, they are not recommended for use anymore. Instead, \\nyou should use MultiIndex DataFrames or other appropriate data structures.\\n\\nA DataFrame is mutable, meaning you can modify its contents after creation. You can add or remove columns,\\nchange values, and perform other modifications on a DataFrame.'"
      ]
     },
     "execution_count": 8,
     "metadata": {},
     "output_type": "execute_result"
    }
   ],
   "source": [
    "#Ans Q6.\n",
    "\"\"\"Among the options given (Series, DataFrame, Panel), only the DataFrame is mutable in nature.\n",
    "\n",
    "In Python, \"mutable\" means that an object can be modified after it's created.\n",
    "\n",
    "A Series in Pandas is an immutable object, meaning you can't modify its individual elements after creation.\n",
    "\n",
    "A Panel in Pandas was a 3D data structure in older versions of Pandas, but it's deprecated now.\n",
    "Even though Panels were mutable, they are not recommended for use anymore. Instead, \n",
    "you should use MultiIndex DataFrames or other appropriate data structures.\n",
    "\n",
    "A DataFrame is mutable, meaning you can modify its contents after creation. You can add or remove columns,\n",
    "change values, and perform other modifications on a DataFrame.\"\"\""
   ]
  },
  {
   "cell_type": "markdown",
   "id": "b7e92675-1433-4ffa-8e92-242be709a565",
   "metadata": {},
   "source": [
    "Q7. Create a DataFrame using multiple Series. Explain with an example."
   ]
  },
  {
   "cell_type": "code",
   "execution_count": 9,
   "id": "c352b937-d70f-4d9d-86da-56521b7e79da",
   "metadata": {},
   "outputs": [
    {
     "name": "stdout",
     "output_type": "stream",
     "text": [
      "     Name  Age  Gender\n",
      "0   Alice   25  Female\n",
      "1     Bob   30    Male\n",
      "2  Claire   27  Female\n"
     ]
    }
   ],
   "source": [
    "\"\"\"Creating a DataFrame using multiple Series is a common operation in Pandas.\n",
    "You can think of a DataFrame as a collection of Series, where each Series represents a column in the DataFrame.\n",
    "You can combine these Series to create a structured table-like data structure.\"\"\"\n",
    "\n",
    "import pandas as pd\n",
    "\n",
    "# Create individual Series\n",
    "names = pd.Series(['Alice', 'Bob', 'Claire'])\n",
    "ages = pd.Series([25, 30, 27])\n",
    "genders = pd.Series(['Female', 'Male', 'Female'])\n",
    "\n",
    "# Create a DataFrame using the Series\n",
    "data = {'Name': names, 'Age': ages, 'Gender': genders}\n",
    "df = pd.DataFrame(data)\n",
    "\n",
    "# Print the DataFrame\n",
    "print(df)\n"
   ]
  },
  {
   "cell_type": "code",
   "execution_count": null,
   "id": "9e6a43e4-60b1-4c23-be5f-d7b7e3f6c41a",
   "metadata": {},
   "outputs": [],
   "source": []
  }
 ],
 "metadata": {
  "kernelspec": {
   "display_name": "Python 3 (ipykernel)",
   "language": "python",
   "name": "python3"
  },
  "language_info": {
   "codemirror_mode": {
    "name": "ipython",
    "version": 3
   },
   "file_extension": ".py",
   "mimetype": "text/x-python",
   "name": "python",
   "nbconvert_exporter": "python",
   "pygments_lexer": "ipython3",
   "version": "3.10.8"
  }
 },
 "nbformat": 4,
 "nbformat_minor": 5
}
